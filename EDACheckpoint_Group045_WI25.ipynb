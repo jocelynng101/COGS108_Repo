{
  "cells": [
    {
      "cell_type": "markdown",
      "metadata": {
        "id": "prG2V7zNmB1e"
      },
      "source": [
        "**If you lost points on the last checkpoint you can get them back by responding to TA/IA feedback**  \n",
        "\n",
        "Update/change the relevant sections where you lost those points, make sure you respond on GitHub Issues to your TA/IA to call their attention to the changes you made here.\n",
        "\n",
        "Please update your Timeline... no battle plan survives contact with the enemy, so make sure we understand how your plans have changed."
      ]
    },
    {
      "cell_type": "markdown",
      "metadata": {
        "id": "E3lW8j39mB1g"
      },
      "source": [
        "# COGS 108 - EDA Checkpoint"
      ]
    },
    {
      "cell_type": "markdown",
      "metadata": {
        "id": "RaIiMmmKmB1g"
      },
      "source": [
        "# Names\n",
        "\n",
        "- Landon Sean\n",
        "- Jocelyn Ng\n",
        "- Kevin Briceno\n",
        "- Alexa Der\n",
        "- Leyna Pham"
      ]
    },
    {
      "cell_type": "markdown",
      "metadata": {
        "id": "jWZrpUbhmB1h"
      },
      "source": [
        "# Research Question"
      ]
    },
    {
      "cell_type": "markdown",
      "metadata": {
        "id": "kHrDC3TfmB1h"
      },
      "source": [
        "How do various features influence the sale price of houses in San Francisco, California?\n",
        "Our research question consists of three parts listed below:\n",
        "\n",
        "Feature I - Square Footage\n",
        "\n",
        "Feature II - Number of bedrooms\n",
        "\n",
        "Feature III - Year built\n",
        "\n"
      ]
    },
    {
      "cell_type": "markdown",
      "metadata": {
        "id": "kn9UeiVhmB1h"
      },
      "source": [
        "## Background and Prior Work"
      ]
    },
    {
      "cell_type": "markdown",
      "metadata": {
        "id": "mt6ZNATVmB1h"
      },
      "source": [
        "\n",
        "This project aims to explore how various factors affect the sale price of houses in San Francisco. Alexander Fromm Lurie, a San Francisco real estate advisor with Compass, “[San Francisco] The Bay Area has among the strongest economies in the world, which attracts talent and infuses an abundance of money in the region.” Real estate markets can be highly variable, with certain features of a property such as its size, location, and age, that often have a significant influence on its value. By analyzing a dataset of housing prices in San Francisco, this project aims to understand the relationship between sale price and key features like square footage, number of bedrooms, neighborhood, and year built. The main objective is to identify which of these independent variables most strongly predict the sale price of homes, which can offer relevant information for homebuyers, sellers, and real estate investors.\n",
        "\n",
        "This topic has been explored and numerous cases have been done figuring out the why. The article by The Own Team explores the biggest factors influencing home prices today. The author, Wilson Leung, explains that a strong job market and economic growth tend to push prices up, while high interest rates can slow down demand. Location remains key, with desirable neighborhoods, school districts, and amenities significantly affecting property values <a name=\"#cite_ref-1\"></a>[<sup>1</sup>](#cite_note-1). He highlights the impact of location, home condition, and government policies on valuations. With mortgage rates fluctuating, he advises buyers and sellers to stay informed and monitor trends.\n",
        "\n",
        "Kara Maria Kockelman’s research on 'The Effects of Location Elements on Home Purchase Prices and Rents: Evidence from the San Francisco Bay Area' highlights the effects of locational factors on home prices and rent in the San Francisco Bay Area. Her study reveals that properties with better access to job centers, highways, and public transit tend to have higher values, and homes with shorter commute times are also priced higher. Neighborhood features, such as income levels, amenity accessibility, and crime rates also affect housing costs <a name=\"cite_ref-2\"></a>[<sup>2</sup>](#cite_note-2). This seemed to be similar to a subsection that our team would like to answer. Environmental factors, including pollution levels and scenic views, also play a significant role in determining property values. By employing regression models, the study quantifies these impacts, which ultimately resulted in the finding that location-based factors—such as accessibility, neighborhood quality, and environmental conditions—collectively account for significant variations in home prices and rents. Similarly to our team’s research question, this study underscores the importance of these features in the value of real estate.\n",
        "\n",
        "1. <a name=\"#cite_note-1\"></a> [^](#cite_ref-1) Leung, W. (2024). The Top Factors Affecting House Prices and How to Navigate Them. The Own Team.\n",
        "(https://www.theownteam.com/blog/the-top-factors-affecting-house-prices-and-how-to-navigate-them/)\n",
        "2. <a name=\"cite_note-1\"></a> [^](#cite_ref-2) Kockelman, K. (2024). The Effects of Location Elements on Home Purchase Prices and Rents: Evidence from the San Francisco Bay Area. University of California, Berkeley, 1997\n",
        "(chrome-extension://bdfcnmeidppjeaggnmidamkiddifkdib/viewer.html?file=https://www.caee.utexas.edu/prof/kockelman/public_html/homepric.pdf)"
      ]
    },
    {
      "cell_type": "markdown",
      "metadata": {
        "id": "kUEQmD6NmB1i"
      },
      "source": [
        "# Hypothesis\n"
      ]
    },
    {
      "cell_type": "markdown",
      "metadata": {
        "id": "Bqe2GJKumB1i"
      },
      "source": [
        "\n",
        "To assess the influence of home buyer features on sale price, we ranked them as follows: 1) square footage is likely the most significant factor, given the limited space in San Francisco; 2) the number of bedrooms follows closely, as space constraints also make this a key consideration; and 3) the year built, which is less impactful compared to the other two features, as renovations can diminish the relevance of a home's original construction date. While these features appear strongly correlated with higher sale prices, it’s important to consider potential nonlinear relationships, as individual buyer preferences may affect how these factors influence pricing.\n",
        "\n"
      ]
    },
    {
      "cell_type": "markdown",
      "metadata": {
        "id": "y-MN9F08mB1i"
      },
      "source": [
        "# Data"
      ]
    },
    {
      "cell_type": "markdown",
      "metadata": {
        "id": "VB6yDsN_mB1i"
      },
      "source": [
        "## Data overview\n",
        "\n",
        "Dataset #1\n",
        "\n",
        "Dataset Name: Zillow House Price Data\n",
        "\n",
        "Link to the dataset: https://www.kaggle.com/datasets/paultimothymooney/zillow-house-price-data?resource=download\n",
        "\n",
        "Number of observations: 100 (specifically related to San Francisco)\n",
        "\n",
        "Number of variables: 6\n",
        "\n",
        "For the Zillow House Price Data dataset, we will focus on housing price-related variables specific to San Francisco. This dataset contains multiple tables pertaining to the median prices of homes specifically the number of bedrooms which will be important for our study. As for the timeframe for our datasets this one specifically is between 2008 to 2020, the other datasets we're using may be different but we'll focus on the timeframe that overlays the most.\n",
        "Key variables include:\n",
        "- RegionName (City name, filtered for San Francisco)\n",
        "- State (Filtered for CA)\n",
        "- Bedroom (# of bedrooms)\n",
        "- Date Columns (Monthly home price values over time)\n",
        "\n",
        "This dataset consists of time-series data where housing prices are recorded for each month\n",
        "For data wrangling, we need to:\n",
        "- Filter for San Francisco (RegionName == San Francisco and State == CA)\n",
        "- Drop irrelevant columns (like Unnamed: 0, RegionID, etc.)\n",
        "- Handle missing values, especially in time-series columns\n",
        "\n",
        "Dataset #2\n",
        "  - Dataset Name: Housing Inventory: Median Listing Price per Square Feet in San Francisco County/city, CA\n",
        "  - Link to the dataset: https://fred.stlouisfed.org/data/MEDLISPRIPERSQUFEE6075\n",
        "  - Number of observations: 102\n",
        "  - Number of variables: 2\n",
        "\n",
        "For this dataset, we will be utilizing the two variables, which are date (ranges monthly from July 2016 to December 2024) and value (in US dollars of the median listing price per square foot in a given market during a specific month).\n",
        "Thus, this dataset also contains time-series data where the median listing price per square footage is documented monthly.\n",
        "For data wrangling, cleaning, and preprocessing, we need to:\n",
        "- Check for missing values, incorrect data types, and duplicates\n",
        "- Make sure that the Date column is formatted as a datetime object and the Value column is numeric\n",
        "- Filter any outliers within a specific percentile range.\n",
        "- Extract time-based features such as year, month, and quarter from the Date column to improve data analysis\n",
        "\n",
        "We plan to combine these datasets by analyzing housing prices in San Francisco to understand how they can be influenced by the number of bedrooms and the median price per square footage of the house. For example, more bedrooms may imply more square footage in a house, thus concluding that the median housing price would be more expensive."
      ]
    },
    {
      "cell_type": "markdown",
      "source": [
        "## Setup\n"
      ],
      "metadata": {
        "id": "7ccDtjhNmWss"
      }
    },
    {
      "cell_type": "code",
      "source": [
        "%matplotlib inline\n",
        "\n",
        "import csv\n",
        "import time\n",
        "import numpy as np\n",
        "import pandas as pd\n",
        "import matplotlib.pyplot as plt\n",
        "import seaborn as sns\n",
        "import statistics\n",
        "\n",
        "import patsy\n",
        "import statsmodels.api as sm\n",
        "import scipy.stats as stats\n",
        "from scipy.stats import ttest_ind, chisquare, normaltest"
      ],
      "metadata": {
        "id": "HiszQpdamVio"
      },
      "execution_count": 1,
      "outputs": []
    },
    {
      "cell_type": "markdown",
      "metadata": {
        "id": "xNMpr58mmB1i"
      },
      "source": [
        "## Dataset Zillow House Price Data"
      ]
    },
    {
      "cell_type": "code",
      "execution_count": null,
      "metadata": {
        "id": "s_-5Ek5UmB1j"
      },
      "outputs": [],
      "source": [
        "df_zillow = pd.read_csv('firstdataframe.csv')\n",
        "print(\"The shape of the data: \" + str(df_zillow.shape))\n",
        "df_zillow.head()"
      ]
    },
    {
      "cell_type": "markdown",
      "metadata": {
        "id": "o_LCOR1NmB1j"
      },
      "source": [
        "## Dataset Housing Inventory"
      ]
    },
    {
      "cell_type": "code",
      "execution_count": null,
      "metadata": {
        "id": "-L-M2vyjmB1j"
      },
      "outputs": [],
      "source": [
        "import pandas as pd\n",
        "url = 'https://raw.githubusercontent.com/COGS108/Group045_WI25/refs/heads/master/median_housing_in_sf.csv?token=GHSAT0AAAAAAC763MUXXH4RUJFMU7KCMOBAZ6KMBGA'\n",
        "median = pd.read_csv(url)\n",
        "print(median.head())"
      ]
    },
    {
      "cell_type": "markdown",
      "metadata": {
        "id": "-6WbB24nmB1j"
      },
      "source": [
        "# Results\n",
        "\n",
        "## Exploratory Data Analysis\n",
        "\n",
        "Carry out whatever EDA you need to for your project.  Because every project will be different we can't really give you much of a template at this point. But please make sure you describe the what and why in text here as well as providing interpretation of results and context."
      ]
    },
    {
      "cell_type": "markdown",
      "metadata": {
        "id": "lc_pqnfRmB1j"
      },
      "source": [
        "### Section 1 of EDA - please give it a better title than this\n",
        "\n",
        "Some more words and stuff.  Remember notebooks work best if you interleave the code that generates a result with properly annotate figures and text that puts these results into context."
      ]
    },
    {
      "cell_type": "code",
      "execution_count": null,
      "metadata": {
        "id": "kE_s4FTdmB1k"
      },
      "outputs": [],
      "source": [
        "## YOUR CODE HERE\n",
        "## FEEL FREE TO ADD MULTIPLE CELLS PER SECTION"
      ]
    },
    {
      "cell_type": "markdown",
      "metadata": {
        "id": "_xG8iOL4mB1k"
      },
      "source": [
        "### Section 2 of EDA if you need it  - please give it a better title than this\n",
        "\n",
        "Some more words and stuff.  Remember notebooks work best if you interleave the code that generates a result with properly annotate figures and text that puts these results into context."
      ]
    },
    {
      "cell_type": "code",
      "execution_count": null,
      "metadata": {
        "id": "UuV7tkhSmB1k"
      },
      "outputs": [],
      "source": [
        "## YOUR CODE HERE\n",
        "## FEEL FREE TO ADD MULTIPLE CELLS PER SECTION"
      ]
    },
    {
      "cell_type": "markdown",
      "metadata": {
        "id": "SGRzLrNdmB1k"
      },
      "source": [
        "# Ethics & Privacy"
      ]
    },
    {
      "cell_type": "markdown",
      "metadata": {
        "id": "vOmhf0SbmB1k"
      },
      "source": [
        "When analyzing how various features (square footage, number of bedrooms, neighborhood, year built) influence home prices in a city, it’s crucial to address ethical concerns related to data privacy, bias, and equitable analysis. Data privacy must be protected by ensuring that personal identifiable information, such as exact addresses, is removed, and that the dataset is used in compliance with what was agreed upon prior. Bias can arise if certain neighborhoods or house types are overrepresented, leading to skewed results. To detect these issues, exploratory data analysis (EDA) can help identify missing or unbalanced data distributions. Using interpretable models ensures that pricing determinants remain transparent and accountable.\n",
        "\n",
        "Ensuring the accuracy and reliability of the analysis is essential when studying the relationship between housing features and sale prices. Model selection plays a crucial role, as different regression techniques, such as linear regression or tree-based models, may yield varying results. It is important to evaluate model performance using appropriate metrics like RMSE (Root Mean Square Error) and R² to assess predictive accuracy. Furthermore, feature selection techniques, including multicollinearity checks and principal component analysis (PCA), can help refine the model by eliminating redundant or insignificant variables. Data preprocessing, such as handling missing values, normalizing continuous variables, and encoding categorical variables, ensures consistency and improves predictive performance. Lastly, cross-validation should be employed to prevent overfitting and ensure the model generalizes well to unseen data, reinforcing the credibility of the analysis.\n"
      ]
    },
    {
      "cell_type": "markdown",
      "metadata": {
        "id": "OWWWG33OmB1k"
      },
      "source": [
        "# Team Expectations"
      ]
    },
    {
      "cell_type": "markdown",
      "metadata": {
        "id": "u0LU8LKymB1k"
      },
      "source": [
        "\n",
        "* *1) Respond promptly within the instagram group chat the same day*\n",
        "* *2) Communicate issues or problems ahead of time*\n",
        "* *3) Setting aside time to meet that is scheduled*\n",
        "* *4) Making sure everyone contributes as equally as possible*\n",
        "* *5) Be open to everyone's ideas*\n",
        "* *6) If and when conflicts arise, clearly confront the issue in a respectful manner to ultimately come up with a solution*\n"
      ]
    },
    {
      "cell_type": "markdown",
      "metadata": {
        "id": "utv7qrMLmB1k"
      },
      "source": [
        "# Project Timeline Proposal"
      ]
    },
    {
      "cell_type": "markdown",
      "metadata": {
        "id": "XLN6FIWrmB1k"
      },
      "source": [
        "\n",
        "\n",
        "\n",
        "| Meeting Date  | Meeting Time| Completed Before Meeting  | Discuss at Meeting |\n",
        "|---|---|---|---|\n",
        "| 2/09  |  1:30 PM | Read & Think about COGS 108 expectations (Landon, Jocelyn, Kevin); brainstorm topics/questions  | Determine best form of communication; Discuss and decide on final project topic; discuss hypothesis; begin background research |\n",
        "| 2/09|  1:30 PM |  Do background research on topic (Everyone)| Discuss ideal dataset(s) and ethics; draft project proposal |\n",
        "| 2/09  | 8:00 PM  | Edit, finalize, and submit proposal; Search for datasets (Everyone) | Discuss Wrangling and possible analytical approaches; Assign group members to lead each specific part   |\n",
        "| 2/22  | 12:00 PM  | Work on data checkpoint #1 (Landon, Kevin, Jocelyn, Leyna)| Update project propsal with TA suggestions (Landon, Jocelyn)  |\n",
        "| 3/1  | 1:30 PM  | Import & Wrangle Data (Alexa); EDA(Leyna) | Review/Edit wrangling/EDA; Discuss Analysis Plan   |\n",
        "| 3/8  | 1:30 PM  | Finalize wrangling/EDA; Begin Analysis (Leyna; Alexa) | Discuss/edit Analysis; Complete project check-in |\n",
        "| 3/15  | 1:30 PM  | Complete analysis; Draft results/conclusion/discussion (Landon, Jocelyn, Kevin)| Discuss/edit full project |\n",
        "| 3/19  | 1:30 PM  | NA | Turn in Final Project & Group Project Surveys |"
      ]
    }
  ],
  "metadata": {
    "kernelspec": {
      "display_name": "Python 3 (ipykernel)",
      "language": "python",
      "name": "python3"
    },
    "language_info": {
      "codemirror_mode": {
        "name": "ipython",
        "version": 3
      },
      "file_extension": ".py",
      "mimetype": "text/x-python",
      "name": "python",
      "nbconvert_exporter": "python",
      "pygments_lexer": "ipython3",
      "version": "3.9.7"
    },
    "colab": {
      "provenance": []
    }
  },
  "nbformat": 4,
  "nbformat_minor": 0
}